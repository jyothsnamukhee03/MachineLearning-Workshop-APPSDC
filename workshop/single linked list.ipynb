{
 "cells": [
  {
   "cell_type": "code",
   "execution_count": 14,
   "id": "f560e491",
   "metadata": {},
   "outputs": [
    {
     "name": "stdout",
     "output_type": "stream",
     "text": [
      "enternum:  1\n",
      "enternum:  2\n",
      "enternum:  3\n",
      "enternum:  4\n",
      "enternum:  5\n",
      "1->2->3->4->5->Null\n"
     ]
    }
   ],
   "source": [
    "class Node:\n",
    "    def __init__(self,data):\n",
    "        self.data = data\n",
    "        self.next = None\n",
    "class LinkedList:\n",
    "    def __init__(self):\n",
    "        self.head = None\n",
    "    def createlist(self,size):\n",
    "        new_node=Node(int(input('enternum:  ')))\n",
    "        self.head = new_node\n",
    "        temp = self.head\n",
    "        for i in range(2,size+1):\n",
    "            new_node=Node(int(input('enternum:  ')))\n",
    "            temp.next=new_node\n",
    "            temp=new_node\n",
    "    def display(self):\n",
    "        temp = self.head\n",
    "        while temp:\n",
    "            print(temp.data,end='->')\n",
    "            temp=temp.next\n",
    "        print(\"Null\")\n",
    "l = LinkedList()\n",
    "l.createlist(5)\n",
    "l.display()"
   ]
  },
  {
   "cell_type": "code",
   "execution_count": 12,
   "id": "4e2cfc20",
   "metadata": {},
   "outputs": [
    {
     "name": "stdout",
     "output_type": "stream",
     "text": [
      "45\n"
     ]
    }
   ],
   "source": [
    "print(45)"
   ]
  },
  {
   "cell_type": "code",
   "execution_count": 11,
   "id": "40b1a56d",
   "metadata": {},
   "outputs": [
    {
     "name": "stdout",
     "output_type": "stream",
     "text": [
      "alphxxdida\n",
      "6\n"
     ]
    }
   ],
   "source": [
    "input_string = input()\n",
    "reversed_string = input_string[::-1]\n",
    "count = 0\n",
    "for i in range(0,len(input_string)):\n",
    "    if input_string[i] != reversed_string[i]:\n",
    "        count = count + 1\n",
    "print(count)"
   ]
  },
  {
   "cell_type": "code",
   "execution_count": 21,
   "id": "6a9b1485",
   "metadata": {},
   "outputs": [
    {
     "name": "stdout",
     "output_type": "stream",
     "text": [
      "4096.0\n"
     ]
    }
   ],
   "source": [
    "import math\n",
    "secretcode = 2\n",
    "firstKey = 3\n",
    "secondKey = 4\n",
    "print((math.pow((math.pow(secretcode,firstKey))%10,secondKey)%10000007))"
   ]
  },
  {
   "cell_type": "code",
   "execution_count": 25,
   "id": "1b92ca4f",
   "metadata": {},
   "outputs": [
    {
     "name": "stdout",
     "output_type": "stream",
     "text": [
      "1\n"
     ]
    }
   ],
   "source": [
    "pointp1 = 2 \n",
    "pointp2 = 6\n",
    "pointp3 = 4\n",
    "if (pointp1 == pointp2 or pointp1 == pointp3 or pointp2 == pointp3):\n",
    "    print ('0')\n",
    "else:\n",
    "    print('1')"
   ]
  },
  {
   "cell_type": "code",
   "execution_count": 56,
   "id": "68b84eec",
   "metadata": {},
   "outputs": [
    {
     "data": {
      "text/plain": [
       "5"
      ]
     },
     "execution_count": 56,
     "metadata": {},
     "output_type": "execute_result"
    }
   ],
   "source": [
    "alienList = [2,5]\n",
    "a = []\n",
    "for i in range(len(alienList)):\n",
    "    a.append(bin(alienList[i]).replace(\"0b\", \"\"))\n",
    "b =[]\n",
    "for i in a:\n",
    "    c = 0\n",
    "    for j in i:\n",
    "        if j == '1':\n",
    "            c += 1\n",
    "    b.append(c)\n",
    "d = b.index(max(b))\n",
    "alienList[d]"
   ]
  },
  {
   "cell_type": "code",
   "execution_count": null,
   "id": "98031ca9",
   "metadata": {},
   "outputs": [],
   "source": []
  }
 ],
 "metadata": {
  "kernelspec": {
   "display_name": "Python 3",
   "language": "python",
   "name": "python3"
  },
  "language_info": {
   "codemirror_mode": {
    "name": "ipython",
    "version": 3
   },
   "file_extension": ".py",
   "mimetype": "text/x-python",
   "name": "python",
   "nbconvert_exporter": "python",
   "pygments_lexer": "ipython3",
   "version": "3.8.8"
  }
 },
 "nbformat": 4,
 "nbformat_minor": 5
}
