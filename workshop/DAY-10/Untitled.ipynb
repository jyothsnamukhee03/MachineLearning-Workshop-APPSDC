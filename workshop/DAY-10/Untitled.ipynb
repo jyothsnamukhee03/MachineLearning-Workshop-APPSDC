{
 "cells": [
  {
   "cell_type": "code",
   "execution_count": 2,
   "id": "e7f0700b",
   "metadata": {},
   "outputs": [
    {
     "name": "stdout",
     "output_type": "stream",
     "text": [
      "16 15 8 5 6\n",
      "Printing Sorted Element List...\n",
      "5 6 8 15 16 "
     ]
    }
   ],
   "source": [
    "a = list(map(int,input().split(' ')))\n",
    "for i in range(0,len(a)):  \n",
    "    for j in range(i+1,len(a)):  \n",
    "        if a[j]<a[i]:  \n",
    "            temp = a[j]  \n",
    "            a[j]=a[i]  \n",
    "            a[i]=temp  \n",
    "print(\"Printing Sorted Element List...\")  \n",
    "for i in a:   \n",
    "    print(i,end = \" \")  "
   ]
  },
  {
   "cell_type": "markdown",
   "id": "2e66b799",
   "metadata": {},
   "source": [
    "# Supervised Learning\n",
    "### Regression\n",
    "- depends on continuous date\n",
    "     - linear regression\n",
    "         - linear regression with single variable\n",
    "         - multiple variables\n",
    "     - polinomial regression\n",
    "         - polinomial with one feature\n",
    "         - polinomial with multiple features\n",
    "### Claasifiaction\n",
    "- depends on categorical data(0 or 1)(True or False)(Pass or Fail)(Yes or No)\n",
    "    - Linear classification\n",
    "        - KNN algorithm\n",
    "        - logestic regression\n",
    "        - decision tree\n",
    "        - randomforest\n",
    "        - svm(support vector machine)\n",
    "    - Non Linear Classification\n",
    "        - \n",
    "        \n"
   ]
  },
  {
   "cell_type": "markdown",
   "id": "776d50f3",
   "metadata": {},
   "source": [
    "# Machine learning Steps\n",
    "- 1. Get the data. or Load the data\n",
    "- 2. Preprocessing the data(Null values emaina unte maarustham)\n",
    "- 3. Define the Input and Output variables\n",
    "- 4. Apply the model or algorithm.\n",
    "- 5. Pass the Data to Training and Testing\n",
    "- 6. Calculate The Score or accuracy score\n",
    "\n"
   ]
  },
  {
   "cell_type": "code",
   "execution_count": 1,
   "id": "a05c577c",
   "metadata": {},
   "outputs": [],
   "source": [
    "import pandas as pd\n",
    "import numpy as np\n",
    "import matplotlib.pyplot as plt\n"
   ]
  },
  {
   "cell_type": "markdown",
   "id": "4d715dcc",
   "metadata": {},
   "source": [
    "# Linear Regression\n",
    "- it is a linear model is a weighted predicted data  to target values\n",
    "- y = mx+ c\n",
    "- y is the target5 value or output value\n",
    "- m is the slope\n",
    "- c is a constant\n",
    "- x is input\n",
    "### Slope = (x - x mean) *(y - y mean) / (x - x mean )^ 2\n",
    "### coefficient = c = y mean - (m * xmean)"
   ]
  },
  {
   "cell_type": "code",
   "execution_count": 34,
   "id": "9283f52a",
   "metadata": {},
   "outputs": [],
   "source": [
    "# Getting the Data\n",
    "df = pd.read_csv('https://raw.githubusercontent.com/AP-State-Skill-Development-Corporation/Machine-Learning-Using-Python-EB8/master/Day-2/reliance.csv')"
   ]
  },
  {
   "cell_type": "code",
   "execution_count": 35,
   "id": "37118331",
   "metadata": {},
   "outputs": [
    {
     "data": {
      "text/plain": [
       "Revenue           0\n",
       "JioSubscribers    0\n",
       "dtype: int64"
      ]
     },
     "execution_count": 35,
     "metadata": {},
     "output_type": "execute_result"
    }
   ],
   "source": [
    "#preprocessing the data\n",
    "df.isnull().sum()"
   ]
  },
  {
   "cell_type": "code",
   "execution_count": 36,
   "id": "cb440e6e",
   "metadata": {},
   "outputs": [
    {
     "name": "stdout",
     "output_type": "stream",
     "text": [
      "<class 'pandas.core.frame.DataFrame'>\n",
      "RangeIndex: 10 entries, 0 to 9\n",
      "Data columns (total 2 columns):\n",
      " #   Column          Non-Null Count  Dtype  \n",
      "---  ------          --------------  -----  \n",
      " 0   Revenue         10 non-null     int64  \n",
      " 1   JioSubscribers  10 non-null     float64\n",
      "dtypes: float64(1), int64(1)\n",
      "memory usage: 288.0 bytes\n"
     ]
    }
   ],
   "source": [
    "#preprocessing the data\n",
    "df.info()"
   ]
  },
  {
   "cell_type": "code",
   "execution_count": 37,
   "id": "b70f1c8e",
   "metadata": {},
   "outputs": [
    {
     "data": {
      "text/html": [
       "<div>\n",
       "<style scoped>\n",
       "    .dataframe tbody tr th:only-of-type {\n",
       "        vertical-align: middle;\n",
       "    }\n",
       "\n",
       "    .dataframe tbody tr th {\n",
       "        vertical-align: top;\n",
       "    }\n",
       "\n",
       "    .dataframe thead th {\n",
       "        text-align: right;\n",
       "    }\n",
       "</style>\n",
       "<table border=\"1\" class=\"dataframe\">\n",
       "  <thead>\n",
       "    <tr style=\"text-align: right;\">\n",
       "      <th></th>\n",
       "      <th>Revenue</th>\n",
       "      <th>JioSubscribers</th>\n",
       "    </tr>\n",
       "  </thead>\n",
       "  <tbody>\n",
       "    <tr>\n",
       "      <th>count</th>\n",
       "      <td>10.000000</td>\n",
       "      <td>10.000000</td>\n",
       "    </tr>\n",
       "    <tr>\n",
       "      <th>mean</th>\n",
       "      <td>13367.900000</td>\n",
       "      <td>284.510000</td>\n",
       "    </tr>\n",
       "    <tr>\n",
       "      <th>std</th>\n",
       "      <td>3784.302914</td>\n",
       "      <td>79.236235</td>\n",
       "    </tr>\n",
       "    <tr>\n",
       "      <th>min</th>\n",
       "      <td>8136.000000</td>\n",
       "      <td>160.100000</td>\n",
       "    </tr>\n",
       "    <tr>\n",
       "      <th>25%</th>\n",
       "      <td>10371.250000</td>\n",
       "      <td>224.550000</td>\n",
       "    </tr>\n",
       "    <tr>\n",
       "      <th>50%</th>\n",
       "      <td>13610.500000</td>\n",
       "      <td>293.400000</td>\n",
       "    </tr>\n",
       "    <tr>\n",
       "      <th>75%</th>\n",
       "      <td>16335.750000</td>\n",
       "      <td>349.225000</td>\n",
       "    </tr>\n",
       "    <tr>\n",
       "      <th>max</th>\n",
       "      <td>18632.000000</td>\n",
       "      <td>387.500000</td>\n",
       "    </tr>\n",
       "  </tbody>\n",
       "</table>\n",
       "</div>"
      ],
      "text/plain": [
       "            Revenue  JioSubscribers\n",
       "count     10.000000       10.000000\n",
       "mean   13367.900000      284.510000\n",
       "std     3784.302914       79.236235\n",
       "min     8136.000000      160.100000\n",
       "25%    10371.250000      224.550000\n",
       "50%    13610.500000      293.400000\n",
       "75%    16335.750000      349.225000\n",
       "max    18632.000000      387.500000"
      ]
     },
     "execution_count": 37,
     "metadata": {},
     "output_type": "execute_result"
    }
   ],
   "source": [
    "#preprocessing the data\n",
    "df.describe()"
   ]
  },
  {
   "cell_type": "code",
   "execution_count": 48,
   "id": "b5327a7a",
   "metadata": {},
   "outputs": [],
   "source": [
    "#defining the input and output varialbles\n",
    "x = df[['Revenue']]\n",
    "y = df['JioSubscribers']\n",
    "\n"
   ]
  },
  {
   "cell_type": "code",
   "execution_count": 49,
   "id": "06d728e4",
   "metadata": {},
   "outputs": [],
   "source": [
    "#applying the model or algorithm\n",
    "from  sklearn.linear_model import LinearRegression"
   ]
  },
  {
   "cell_type": "code",
   "execution_count": 50,
   "id": "d802d10b",
   "metadata": {},
   "outputs": [],
   "source": [
    "#applying the model or algorithm\n",
    "model = LinearRegression()"
   ]
  },
  {
   "cell_type": "code",
   "execution_count": 53,
   "id": "60720979",
   "metadata": {},
   "outputs": [
    {
     "name": "stdout",
     "output_type": "stream",
     "text": [
      "LinearRegression()\n"
     ]
    }
   ],
   "source": [
    "#train the data\n",
    "model.fit(x,y)"
   ]
  },
  {
   "cell_type": "code",
   "execution_count": 54,
   "id": "f89064a8",
   "metadata": {},
   "outputs": [
    {
     "data": {
      "text/plain": [
       "0.9920788182785107"
      ]
     },
     "execution_count": 54,
     "metadata": {},
     "output_type": "execute_result"
    }
   ],
   "source": [
    "model.score(x,y)"
   ]
  },
  {
   "cell_type": "code",
   "execution_count": 55,
   "id": "ebc40212",
   "metadata": {},
   "outputs": [],
   "source": [
    "# another one\n",
    "\n",
    "df = pd.read_csv('https://raw.githubusercontent.com/AP-State-Skill-Development-Corporation/Machine-Learning-Using-Python-EB8/master/Day-2/reliance.csv')"
   ]
  },
  {
   "cell_type": "code",
   "execution_count": 56,
   "id": "a8eee2b6",
   "metadata": {},
   "outputs": [
    {
     "data": {
      "text/plain": [
       "Revenue           0\n",
       "JioSubscribers    0\n",
       "dtype: int64"
      ]
     },
     "execution_count": 56,
     "metadata": {},
     "output_type": "execute_result"
    }
   ],
   "source": [
    "df.isnull().sum()"
   ]
  },
  {
   "cell_type": "code",
   "execution_count": 57,
   "id": "18c3851c",
   "metadata": {},
   "outputs": [
    {
     "name": "stdout",
     "output_type": "stream",
     "text": [
      "<class 'pandas.core.frame.DataFrame'>\n",
      "RangeIndex: 10 entries, 0 to 9\n",
      "Data columns (total 2 columns):\n",
      " #   Column          Non-Null Count  Dtype  \n",
      "---  ------          --------------  -----  \n",
      " 0   Revenue         10 non-null     int64  \n",
      " 1   JioSubscribers  10 non-null     float64\n",
      "dtypes: float64(1), int64(1)\n",
      "memory usage: 288.0 bytes\n"
     ]
    }
   ],
   "source": [
    "#preprocessing the data\n",
    "df.info()"
   ]
  },
  {
   "cell_type": "code",
   "execution_count": 58,
   "id": "48a1ac8d",
   "metadata": {},
   "outputs": [
    {
     "data": {
      "text/html": [
       "<div>\n",
       "<style scoped>\n",
       "    .dataframe tbody tr th:only-of-type {\n",
       "        vertical-align: middle;\n",
       "    }\n",
       "\n",
       "    .dataframe tbody tr th {\n",
       "        vertical-align: top;\n",
       "    }\n",
       "\n",
       "    .dataframe thead th {\n",
       "        text-align: right;\n",
       "    }\n",
       "</style>\n",
       "<table border=\"1\" class=\"dataframe\">\n",
       "  <thead>\n",
       "    <tr style=\"text-align: right;\">\n",
       "      <th></th>\n",
       "      <th>Revenue</th>\n",
       "      <th>JioSubscribers</th>\n",
       "    </tr>\n",
       "  </thead>\n",
       "  <tbody>\n",
       "    <tr>\n",
       "      <th>count</th>\n",
       "      <td>10.000000</td>\n",
       "      <td>10.000000</td>\n",
       "    </tr>\n",
       "    <tr>\n",
       "      <th>mean</th>\n",
       "      <td>13367.900000</td>\n",
       "      <td>284.510000</td>\n",
       "    </tr>\n",
       "    <tr>\n",
       "      <th>std</th>\n",
       "      <td>3784.302914</td>\n",
       "      <td>79.236235</td>\n",
       "    </tr>\n",
       "    <tr>\n",
       "      <th>min</th>\n",
       "      <td>8136.000000</td>\n",
       "      <td>160.100000</td>\n",
       "    </tr>\n",
       "    <tr>\n",
       "      <th>25%</th>\n",
       "      <td>10371.250000</td>\n",
       "      <td>224.550000</td>\n",
       "    </tr>\n",
       "    <tr>\n",
       "      <th>50%</th>\n",
       "      <td>13610.500000</td>\n",
       "      <td>293.400000</td>\n",
       "    </tr>\n",
       "    <tr>\n",
       "      <th>75%</th>\n",
       "      <td>16335.750000</td>\n",
       "      <td>349.225000</td>\n",
       "    </tr>\n",
       "    <tr>\n",
       "      <th>max</th>\n",
       "      <td>18632.000000</td>\n",
       "      <td>387.500000</td>\n",
       "    </tr>\n",
       "  </tbody>\n",
       "</table>\n",
       "</div>"
      ],
      "text/plain": [
       "            Revenue  JioSubscribers\n",
       "count     10.000000       10.000000\n",
       "mean   13367.900000      284.510000\n",
       "std     3784.302914       79.236235\n",
       "min     8136.000000      160.100000\n",
       "25%    10371.250000      224.550000\n",
       "50%    13610.500000      293.400000\n",
       "75%    16335.750000      349.225000\n",
       "max    18632.000000      387.500000"
      ]
     },
     "execution_count": 58,
     "metadata": {},
     "output_type": "execute_result"
    }
   ],
   "source": [
    "#preprocessing the data\n",
    "df.describe()"
   ]
  },
  {
   "cell_type": "code",
   "execution_count": 59,
   "id": "47e4bac0",
   "metadata": {},
   "outputs": [],
   "source": [
    "#defining the input and output varialbles\n",
    "x = df[['Revenue']]\n",
    "y = df['JioSubscribers']\n",
    "\n"
   ]
  },
  {
   "cell_type": "code",
   "execution_count": 61,
   "id": "65f04506",
   "metadata": {},
   "outputs": [],
   "source": [
    "from  sklearn.datasets import load_boston"
   ]
  },
  {
   "cell_type": "code",
   "execution_count": 63,
   "id": "66292f89",
   "metadata": {},
   "outputs": [],
   "source": [
    "boston = load_boston()"
   ]
  },
  {
   "cell_type": "code",
   "execution_count": 65,
   "id": "965ce28d",
   "metadata": {},
   "outputs": [],
   "source": [
    "df=pd.DataFrame(boston['data'])"
   ]
  },
  {
   "cell_type": "code",
   "execution_count": null,
   "id": "e02a9da6",
   "metadata": {},
   "outputs": [],
   "source": []
  }
 ],
 "metadata": {
  "kernelspec": {
   "display_name": "Python 3",
   "language": "python",
   "name": "python3"
  },
  "language_info": {
   "codemirror_mode": {
    "name": "ipython",
    "version": 3
   },
   "file_extension": ".py",
   "mimetype": "text/x-python",
   "name": "python",
   "nbconvert_exporter": "python",
   "pygments_lexer": "ipython3",
   "version": "3.8.8"
  }
 },
 "nbformat": 4,
 "nbformat_minor": 5
}
